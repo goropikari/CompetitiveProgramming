{
 "cells": [
  {
   "cell_type": "code",
   "execution_count": 1,
   "id": "230db2ec-3f83-431f-a74f-0b2cdc48d1b1",
   "metadata": {},
   "outputs": [],
   "source": [
    "import urllib.request\n",
    "import gzip\n",
    "import json\n",
    "import time\n",
    "import datetime"
   ]
  },
  {
   "cell_type": "code",
   "execution_count": 2,
   "id": "93745e08-3d78-4ff5-b313-e97cbd9f52fe",
   "metadata": {},
   "outputs": [
    {
     "name": "stdout",
     "output_type": "stream",
     "text": [
      "1543063135\n",
      "1596259640\n",
      "1613218014\n",
      "1641340433\n",
      "1646494648\n",
      "1734774393\n",
      "1738486483\n",
      "1740816894\n"
     ]
    }
   ],
   "source": [
    "submissions = []\n",
    "\n",
    "start = 1514540441\n",
    "while True:\n",
    "    url = 'https://kenkoooo.com/atcoder/atcoder-api/v3/user/submissions?user=goropikari&from_second=' + str(start)\n",
    "    req = urllib.request.Request(\n",
    "        url=url,\n",
    "        headers = {'Accept-Encoding': 'gzip', 'Content-Type': 'application/json'}\n",
    "    )\n",
    "    with urllib.request.urlopen(req) as f:\n",
    "        data = f.read()\n",
    "    \n",
    "    res = json.loads(gzip.decompress(data).decode('utf8'))\n",
    "    if len(res) == 0:\n",
    "        break\n",
    "    submissions.extend(res)\n",
    "\n",
    "    start = submissions[-1]['epoch_second']+1\n",
    "    print(start)\n",
    "    time.sleep(1)\n",
    "\n",
    "with open('submissions.json', 'w') as f:\n",
    "    json.dump(submissions, f)"
   ]
  },
  {
   "cell_type": "code",
   "execution_count": 14,
   "id": "b962ce51-6b3f-4cb9-a567-1dac68a961eb",
   "metadata": {},
   "outputs": [],
   "source": [
    "problem_url = 'https://kenkoooo.com/atcoder/resources/problem-models.json'\n",
    "req = urllib.request.Request(\n",
    "        url=problem_url,\n",
    "        headers = {'Accept-Encoding': 'gzip', 'Content-Type': 'application/json'}\n",
    "    )\n",
    "with urllib.request.urlopen(req) as f:\n",
    "    data = f.read()\n",
    "\n",
    "problems = res = json.loads(gzip.decompress(data).decode('utf8'))\n",
    "\n",
    "with open('problem-models.json', 'w') as f:\n",
    "    json.dump(problems, f)"
   ]
  },
  {
   "cell_type": "code",
   "execution_count": 4,
   "id": "70e6fb18-b425-424f-b6a1-3a99192159f0",
   "metadata": {},
   "outputs": [],
   "source": [
    "def to_jst(unixtime):\n",
    "    return datetime.datetime.fromtimestamp(\n",
    "        unixtime, \n",
    "        datetime.timezone(datetime.timedelta(hours=9))\n",
    "    ).strftime('%Y%m%d')\n",
    "\n",
    "def difficulty_color(x):\n",
    "    if x < 400:\n",
    "        return 'gray'\n",
    "    if x < 800:\n",
    "        return 'brown'\n",
    "    if x < 1200:\n",
    "        return 'green'\n",
    "    if x < 1600:\n",
    "        return 'cyan'\n",
    "    if x < 2000:\n",
    "        return 'blue'\n",
    "    if x < 2400:\n",
    "        return 'yellow'\n",
    "    if x < 2800:\n",
    "        return 'orange'\n",
    "    return 'red'"
   ]
  },
  {
   "cell_type": "code",
   "execution_count": 5,
   "id": "1aa8376b-da15-40e2-a83d-6a349868a4b3",
   "metadata": {},
   "outputs": [],
   "source": [
    "solved_problem = set()\n",
    "freq = {}\n",
    "start_date = to_jst(submissions[0]['epoch_second'])\n",
    "end_date = to_jst(submissions[-1]['epoch_second'])\n",
    "\n",
    "ndt = datetime.datetime.strptime(start_date, '%Y%m%d')\n",
    "edt = datetime.datetime.strptime(end_date, '%Y%m%d')\n",
    "while ndt <= edt:\n",
    "    s = ndt.strftime('%Y%m%d')\n",
    "    freq[s] = {\n",
    "        'gray': 0,\n",
    "        'brown': 0,\n",
    "        'green': 0,\n",
    "        'cyan': 0,\n",
    "        'blue': 0,\n",
    "        'yellow': 0,\n",
    "        'orange': 0,\n",
    "        'red': 0,\n",
    "    }\n",
    "    ndt += datetime.timedelta(days=1)"
   ]
  },
  {
   "cell_type": "code",
   "execution_count": 6,
   "id": "52326d9c-b008-4a68-9b2d-bd9ef44f656c",
   "metadata": {},
   "outputs": [],
   "source": [
    "for sub in submissions:\n",
    "    if sub['result'] != 'AC':\n",
    "        continue\n",
    "    problem_id = sub['problem_id']\n",
    "    if problem_id in solved_problem:\n",
    "        continue\n",
    "    try:\n",
    "        solved_problem.add(problem_id)\n",
    "        diff = problems[problem_id]['difficulty']\n",
    "        if difficulty_color(diff) == 'red':\n",
    "            print(problem_id)\n",
    "            print(problems[problem_id])\n",
    "        freq[to_jst(sub['epoch_second'])][difficulty_color(diff)] += 1\n",
    "    except:\n",
    "        pass"
   ]
  },
  {
   "cell_type": "code",
   "execution_count": 7,
   "id": "dbdca353-f7e0-496e-8f21-48577a4e1a6b",
   "metadata": {
    "scrolled": true
   },
   "outputs": [],
   "source": [
    "start_date = to_jst(submissions[0]['epoch_second'])\n",
    "end_date = to_jst(submissions[-1]['epoch_second'])\n",
    "\n",
    "ndt = datetime.datetime.strptime(start_date, '%Y%m%d')\n",
    "edt = datetime.datetime.strptime(end_date, '%Y%m%d')\n",
    "while ndt < edt:\n",
    "    s = ndt.strftime('%Y%m%d')\n",
    "    prev = freq[s]\n",
    "    ndt += datetime.timedelta(days=1)\n",
    "    ns = ndt.strftime('%Y%m%d')\n",
    "    for k,v in freq[s].items():\n",
    "        freq[ns][k] += v"
   ]
  },
  {
   "cell_type": "code",
   "execution_count": 13,
   "id": "03dca7ff-5450-42db-97a8-591342c549fd",
   "metadata": {
    "scrolled": true
   },
   "outputs": [],
   "source": [
    "with open('stat.json', 'w') as f:\n",
    "    json.dump(freq, f)"
   ]
  },
  {
   "cell_type": "code",
   "execution_count": null,
   "id": "6ffba457-cfbd-49f1-baac-43a777ca2785",
   "metadata": {},
   "outputs": [],
   "source": []
  },
  {
   "cell_type": "code",
   "execution_count": 2,
   "id": "1b7d255e-4f17-4275-a617-172afbb6a35d",
   "metadata": {},
   "outputs": [],
   "source": [
    "import json\n",
    "with open('stat.json', 'r') as f:\n",
    "    freq = json.load(f)"
   ]
  },
  {
   "cell_type": "code",
   "execution_count": 14,
   "id": "8e530221-5ef4-421f-9d73-1ed2ce8ce91a",
   "metadata": {
    "scrolled": true
   },
   "outputs": [],
   "source": [
    "modfreq = dict()\n",
    "keys = list(freq.keys())\n",
    "keys.sort()\n",
    "prev = None\n",
    "for key in keys:\n",
    "    if prev != freq[key]:\n",
    "        prev = freq[key]        \n",
    "        modfreq[key] = freq[key]"
   ]
  },
  {
   "cell_type": "code",
   "execution_count": 17,
   "id": "00028b3b-7986-4e52-af90-9a38fac39c66",
   "metadata": {},
   "outputs": [
    {
     "data": {
      "text/plain": [
       "(400, 2624)"
      ]
     },
     "execution_count": 17,
     "metadata": {},
     "output_type": "execute_result"
    }
   ],
   "source": [
    "len(modfreq), len(freq)"
   ]
  }
 ],
 "metadata": {
  "kernelspec": {
   "display_name": "Python 3 (ipykernel)",
   "language": "python",
   "name": "python3"
  },
  "language_info": {
   "codemirror_mode": {
    "name": "ipython",
    "version": 3
   },
   "file_extension": ".py",
   "mimetype": "text/x-python",
   "name": "python",
   "nbconvert_exporter": "python",
   "pygments_lexer": "ipython3",
   "version": "3.12.7"
  }
 },
 "nbformat": 4,
 "nbformat_minor": 5
}
